{
  "nbformat": 4,
  "nbformat_minor": 0,
  "metadata": {
    "colab": {
      "provenance": [],
      "authorship_tag": "ABX9TyMlUWd8fuJSC4zpwXO/chG2",
      "include_colab_link": true
    },
    "kernelspec": {
      "name": "python3",
      "display_name": "Python 3"
    },
    "language_info": {
      "name": "python"
    }
  },
  "cells": [
    {
      "cell_type": "markdown",
      "metadata": {
        "id": "view-in-github",
        "colab_type": "text"
      },
      "source": [
        "<a href=\"https://colab.research.google.com/github/apArve08/ap-AI-1-colab/blob/main/testGemini.ipynb\" target=\"_parent\"><img src=\"https://colab.research.google.com/assets/colab-badge.svg\" alt=\"Open In Colab\"/></a>"
      ]
    },
    {
      "cell_type": "code",
      "execution_count": 5,
      "metadata": {
        "id": "_0OWtTmRIA7G"
      },
      "outputs": [],
      "source": [
        "# prompt: how to call gemini ai using api\n",
        "\n",
        "!pip install -q -U google-generativeai\n"
      ]
    },
    {
      "cell_type": "code",
      "source": [
        "import google.generativeai as genai\n",
        "from google.colab import userdata\n",
        "\n",
        "# Get your API key from Colab's user data (secrets)\n",
        "GOOGLE_API_KEY = userdata.get('GOOGLE_API_KEY')\n",
        "genai.configure(api_key=GOOGLE_API_KEY)"
      ],
      "metadata": {
        "id": "A20aCAcKM7gb"
      },
      "execution_count": 6,
      "outputs": []
    },
    {
      "cell_type": "code",
      "source": [
        "# Initialize the Generative Model\n",
        "# 'gemini-pro' is a good general-purpose model for text-based tasks.\n",
        "# You can also use 'gemini-1.5-flash', 'gemini-1.5-pro' for more advanced features (check your free tier limits).\n",
        "model = genai.GenerativeModel('gemini-2.0-flash')\n",
        "\n",
        "# Send a prompt to the model\n",
        "prompt = \"Explain what is software engineering.\"\n",
        "response = model.generate_content(prompt)\n",
        "\n",
        "# Print the model's response\n",
        "print(response.text)"
      ],
      "metadata": {
        "colab": {
          "base_uri": "https://localhost:8080/",
          "height": 836
        },
        "id": "EsoH7ciWNKJU",
        "outputId": "87a14c98-5a28-4e05-b346-23f376aa3dc2"
      },
      "execution_count": 8,
      "outputs": [
        {
          "output_type": "stream",
          "name": "stdout",
          "text": [
            "## Software Engineering Explained\n",
            "\n",
            "Software engineering is the **application of engineering principles to the design, development, maintenance, testing, and evaluation of software.** It's about creating reliable, efficient, and maintainable software systems that meet the needs of users and stakeholders.\n",
            "\n",
            "Think of it as applying structured and disciplined approaches to the entire lifecycle of software creation, from initial concept to ongoing updates and eventual retirement.\n",
            "\n",
            "**Key Aspects of Software Engineering:**\n",
            "\n",
            "*   **Problem Solving:** Understanding the user's needs and translating them into a software solution.\n",
            "*   **Systematic Approach:**  Using well-defined processes, methodologies, and tools to manage the complexity of software development.\n",
            "*   **Teamwork:**  Collaboration among different specialists like developers, testers, designers, project managers, and clients.\n",
            "*   **Quality Assurance:**  Ensuring the software meets predefined quality standards in terms of functionality, performance, reliability, security, and usability.\n",
            "*   **Maintainability:**  Designing software that can be easily modified, updated, and adapted to changing requirements.\n",
            "*   **Cost-Effectiveness:**  Developing software within budget and time constraints while maximizing its value.\n",
            "*   **Ethics:** Adhering to professional and ethical standards in all aspects of software development.\n",
            "\n",
            "**In simpler terms, software engineering is like building a house:**\n",
            "\n",
            "*   **Requirements Gathering (Blueprint):** Understanding the client's needs and creating specifications (like number of rooms, size, style).\n",
            "*   **Design (Architecture):** Planning the software's structure and components.\n",
            "*   **Construction (Coding):** Writing the actual code.\n",
            "*   **Testing (Inspection):** Verifying that the house is built according to specifications and fixing any issues.\n",
            "*   **Maintenance (Renovation):**  Making updates and improvements to the house over time.\n",
            "\n",
            "**Differences between Software Engineering and Programming:**\n",
            "\n",
            "While programming is a crucial part of software engineering, it's not the whole picture.\n",
            "\n",
            "| Feature         | Programming                        | Software Engineering                    |\n",
            "|-----------------|-----------------------------------|-----------------------------------------|\n",
            "| **Focus**         | Writing code to solve a specific problem | Managing the entire software lifecycle  |\n",
            "| **Scope**         | Smaller scale, individual tasks    | Larger scale, complex systems          |\n",
            "| **Perspective**  | Implementation details            | Overall architecture, design, and quality |\n",
            "| **Tools**         | Compilers, debuggers, IDEs          | Project management tools, design tools, testing frameworks |\n",
            "| **Emphasis**     | Coding efficiency                 |  Reliability, maintainability, scalability |\n",
            "\n",
            "**Why is Software Engineering Important?**\n",
            "\n",
            "*   **Complex Systems:**  Modern software systems are incredibly complex. Software engineering provides the methodologies and tools to manage this complexity.\n",
            "*   **Reliability:** We rely on software for critical functions (healthcare, finance, transportation). Software engineering aims to minimize errors and ensure reliable operation.\n",
            "*   **Maintainability:**  Software needs to be updated and adapted over time. Software engineering promotes maintainable code that is easier to modify and improve.\n",
            "*   **Cost Management:**  Poorly designed or developed software can be very expensive to fix. Software engineering helps to reduce development costs and minimize risks.\n",
            "*   **Scalability:** Systems need to be able to handle increased loads and growing user bases. Software engineering enables the creation of scalable and adaptable systems.\n",
            "\n",
            "**In conclusion, software engineering is a multifaceted discipline focused on building high-quality, reliable, maintainable, and scalable software systems by applying engineering principles and practices throughout the entire software development lifecycle.** It's essential for creating the software that powers our modern world.\n",
            "\n"
          ]
        }
      ]
    }
  ]
}